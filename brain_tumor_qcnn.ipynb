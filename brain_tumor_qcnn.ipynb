{
  "metadata": {
    "kernelspec": {
      "language": "python",
      "display_name": "Python 3",
      "name": "python3"
    },
    "language_info": {
      "name": "python",
      "version": "3.11.11",
      "mimetype": "text/x-python",
      "codemirror_mode": {
        "name": "ipython",
        "version": 3
      },
      "pygments_lexer": "ipython3",
      "nbconvert_exporter": "python",
      "file_extension": ".py"
    },
    "kaggle": {
      "accelerator": "gpu",
      "dataSources": [
        {
          "sourceId": 1299795,
          "sourceType": "datasetVersion",
          "datasetId": 751906
        }
      ],
      "dockerImageVersionId": 31011,
      "isInternetEnabled": true,
      "language": "python",
      "sourceType": "notebook",
      "isGpuEnabled": true
    },
    "colab": {
      "name": "brain_tumor_qcnn",
      "provenance": []
    }
  },
  "nbformat_minor": 0,
  "nbformat": 4,
  "cells": [
    {
      "source": [
        "# IMPORTANT: RUN THIS CELL IN ORDER TO IMPORT YOUR KAGGLE DATA SOURCES,\n",
        "# THEN FEEL FREE TO DELETE THIS CELL.\n",
        "# NOTE: THIS NOTEBOOK ENVIRONMENT DIFFERS FROM KAGGLE'S PYTHON\n",
        "# ENVIRONMENT SO THERE MAY BE MISSING LIBRARIES USED BY YOUR\n",
        "# NOTEBOOK.\n",
        "import kagglehub\n",
        "awsaf49_brats20_dataset_training_validation_path = kagglehub.dataset_download('awsaf49/brats20-dataset-training-validation')\n",
        "\n",
        "print('Data source import complete.')\n"
      ],
      "metadata": {
        "id": "J9bBffAWR9YK"
      },
      "cell_type": "code",
      "outputs": [],
      "execution_count": null
    },
    {
      "cell_type": "code",
      "source": [
        "pip install nibabel matplotlib scikit-image opencv-python tensorflow\n"
      ],
      "metadata": {
        "trusted": true,
        "execution": {
          "iopub.status.busy": "2025-04-18T00:38:11.989057Z",
          "iopub.execute_input": "2025-04-18T00:38:11.989407Z",
          "iopub.status.idle": "2025-04-18T00:38:15.976145Z",
          "shell.execute_reply.started": "2025-04-18T00:38:11.989379Z",
          "shell.execute_reply": "2025-04-18T00:38:15.975289Z"
        },
        "id": "azW10J14R9YM"
      },
      "outputs": [],
      "execution_count": null
    },
    {
      "cell_type": "code",
      "source": [
        "import os\n",
        "import numpy as np\n",
        "import nibabel as nib\n",
        "import cv2\n",
        "import matplotlib.pyplot as plt"
      ],
      "metadata": {
        "_uuid": "8f2839f25d086af736a60e9eeb907d3b93b6e0e5",
        "_cell_guid": "b1076dfc-b9ad-4769-8c92-a6c4dae69d19",
        "trusted": true,
        "execution": {
          "iopub.status.busy": "2025-04-18T00:38:10.914502Z",
          "iopub.execute_input": "2025-04-18T00:38:10.914693Z",
          "iopub.status.idle": "2025-04-18T00:38:11.988247Z",
          "shell.execute_reply.started": "2025-04-18T00:38:10.914675Z",
          "shell.execute_reply": "2025-04-18T00:38:11.987513Z"
        },
        "id": "KySEulXKR9YM"
      },
      "outputs": [],
      "execution_count": null
    },
    {
      "cell_type": "code",
      "source": [
        "BASE_PATH = \"/kaggle/input/brats20-dataset-training-validation/BraTS2020_TrainingData\"\n",
        "\n",
        "IMG_SIZE = 128  # Resize to speed up training"
      ],
      "metadata": {
        "trusted": true,
        "execution": {
          "iopub.status.busy": "2025-04-18T00:38:15.977837Z",
          "iopub.execute_input": "2025-04-18T00:38:15.978049Z",
          "iopub.status.idle": "2025-04-18T00:38:15.981839Z",
          "shell.execute_reply.started": "2025-04-18T00:38:15.978033Z",
          "shell.execute_reply": "2025-04-18T00:38:15.981175Z"
        },
        "id": "u95KtDSGR9YM"
      },
      "outputs": [],
      "execution_count": null
    },
    {
      "cell_type": "code",
      "source": [
        "def load_nifti_image(filepath):\n",
        "    img = nib.load(filepath)\n",
        "    img_data = img.get_fdata()\n",
        "    return img_data"
      ],
      "metadata": {
        "trusted": true,
        "execution": {
          "iopub.status.busy": "2025-04-18T00:38:15.982493Z",
          "iopub.execute_input": "2025-04-18T00:38:15.982763Z",
          "iopub.status.idle": "2025-04-18T00:38:16.001941Z",
          "shell.execute_reply.started": "2025-04-18T00:38:15.982738Z",
          "shell.execute_reply": "2025-04-18T00:38:16.0013Z"
        },
        "id": "2sMhIg2YR9YM"
      },
      "outputs": [],
      "execution_count": null
    },
    {
      "cell_type": "code",
      "source": [
        "def normalize_img(img):\n",
        "    img = (img - np.min(img)) / (np.max(img) - np.min(img))\n",
        "    return img"
      ],
      "metadata": {
        "trusted": true,
        "execution": {
          "iopub.status.busy": "2025-04-18T00:38:16.002576Z",
          "iopub.execute_input": "2025-04-18T00:38:16.002737Z",
          "iopub.status.idle": "2025-04-18T00:38:16.015878Z",
          "shell.execute_reply.started": "2025-04-18T00:38:16.002724Z",
          "shell.execute_reply": "2025-04-18T00:38:16.015287Z"
        },
        "id": "ojNWQkXXR9YM"
      },
      "outputs": [],
      "execution_count": null
    },
    {
      "cell_type": "code",
      "source": [
        "def preprocess_single_case(img_path, mask_path):\n",
        "    img_data = normalize_img(load_nifti_image(img_path))\n",
        "    mask_data = load_nifti_image(mask_path)\n",
        "\n",
        "    # Choose the middle slice for simplicity (can use 3D later)\n",
        "    mid_slice = img_data.shape[2] // 2\n",
        "    img_slice = cv2.resize(img_data[:, :, mid_slice], (IMG_SIZE, IMG_SIZE))\n",
        "    mask_slice = cv2.resize(mask_data[:, :, mid_slice], (IMG_SIZE, IMG_SIZE))\n",
        "\n",
        "    # Binary mask: tumor vs no tumor\n",
        "    mask_slice = (mask_slice > 0).astype(np.float32)\n",
        "\n",
        "    return img_slice[..., np.newaxis], mask_slice[..., np.newaxis]"
      ],
      "metadata": {
        "trusted": true,
        "execution": {
          "iopub.status.busy": "2025-04-18T00:38:16.016588Z",
          "iopub.execute_input": "2025-04-18T00:38:16.016856Z",
          "iopub.status.idle": "2025-04-18T00:38:16.029385Z",
          "shell.execute_reply.started": "2025-04-18T00:38:16.01684Z",
          "shell.execute_reply": "2025-04-18T00:38:16.028686Z"
        },
        "id": "KjkoV-V0R9YM"
      },
      "outputs": [],
      "execution_count": null
    },
    {
      "cell_type": "code",
      "source": [
        "img, mask = preprocess_single_case(\n",
        "    \"/kaggle/input/brats20-dataset-training-validation/BraTS2020_TrainingData/MICCAI_BraTS2020_TrainingData/BraTS20_Training_001/BraTS20_Training_001_flair.nii\",\n",
        "    \"/kaggle/input/brats20-dataset-training-validation/BraTS2020_TrainingData/MICCAI_BraTS2020_TrainingData/BraTS20_Training_001/BraTS20_Training_001_seg.nii\"\n",
        ")\n"
      ],
      "metadata": {
        "trusted": true,
        "execution": {
          "iopub.status.busy": "2025-04-18T00:38:16.030075Z",
          "iopub.execute_input": "2025-04-18T00:38:16.030374Z",
          "iopub.status.idle": "2025-04-18T00:38:16.39777Z",
          "shell.execute_reply.started": "2025-04-18T00:38:16.030293Z",
          "shell.execute_reply": "2025-04-18T00:38:16.397001Z"
        },
        "id": "jsm6HoGBR9YN"
      },
      "outputs": [],
      "execution_count": null
    },
    {
      "cell_type": "code",
      "source": [
        "plt.subplot(1, 2, 1)\n",
        "plt.imshow(img.squeeze(), cmap='gray')\n",
        "plt.title('MRI')\n",
        "plt.subplot(1, 2, 2)\n",
        "plt.imshow(mask.squeeze(), cmap='gray')\n",
        "plt.title('Tumor Mask')\n",
        "plt.show()"
      ],
      "metadata": {
        "trusted": true,
        "execution": {
          "iopub.status.busy": "2025-04-18T00:38:16.399909Z",
          "iopub.execute_input": "2025-04-18T00:38:16.400144Z",
          "iopub.status.idle": "2025-04-18T00:38:16.761604Z",
          "shell.execute_reply.started": "2025-04-18T00:38:16.400122Z",
          "shell.execute_reply": "2025-04-18T00:38:16.760969Z"
        },
        "id": "NZx9nYecR9YN"
      },
      "outputs": [],
      "execution_count": null
    },
    {
      "cell_type": "code",
      "source": [
        "from tensorflow.keras.layers import Conv2D, MaxPooling2D, Conv2DTranspose, concatenate, Input\n",
        "from tensorflow.keras.models import Model\n",
        "\n",
        "def unet_model(input_size=(128, 128, 1)):\n",
        "    inputs = Input(input_size)\n",
        "\n",
        "    # Encoder\n",
        "    c1 = Conv2D(32, 3, activation='relu', padding='same')(inputs)\n",
        "    c1 = Conv2D(32, 3, activation='relu', padding='same')(c1)\n",
        "    p1 = MaxPooling2D(2)(c1)\n",
        "\n",
        "    c2 = Conv2D(64, 3, activation='relu', padding='same')(p1)\n",
        "    c2 = Conv2D(64, 3, activation='relu', padding='same')(c2)\n",
        "    p2 = MaxPooling2D(2)(c2)\n",
        "\n",
        "    c3 = Conv2D(128, 3, activation='relu', padding='same')(p2)\n",
        "    c3 = Conv2D(128, 3, activation='relu', padding='same')(c3)\n",
        "    p3 = MaxPooling2D(2)(c3)\n",
        "\n",
        "    # Bottleneck\n",
        "    c4 = Conv2D(256, 3, activation='relu', padding='same')(p3)\n",
        "    c4 = Conv2D(256, 3, activation='relu', padding='same')(c4)\n",
        "\n",
        "    # Decoder\n",
        "    u5 = Conv2DTranspose(128, 2, strides=2, padding='same')(c4)\n",
        "    u5 = concatenate([u5, c3])\n",
        "    c5 = Conv2D(128, 3, activation='relu', padding='same')(u5)\n",
        "    c5 = Conv2D(128, 3, activation='relu', padding='same')(c5)\n",
        "\n",
        "    u6 = Conv2DTranspose(64, 2, strides=2, padding='same')(c5)\n",
        "    u6 = concatenate([u6, c2])\n",
        "    c6 = Conv2D(64, 3, activation='relu', padding='same')(u6)\n",
        "    c6 = Conv2D(64, 3, activation='relu', padding='same')(c6)\n",
        "\n",
        "    u7 = Conv2DTranspose(32, 2, strides=2, padding='same')(c6)\n",
        "    u7 = concatenate([u7, c1])\n",
        "    c7 = Conv2D(32, 3, activation='relu', padding='same')(u7)\n",
        "    c7 = Conv2D(32, 3, activation='relu', padding='same')(c7)\n",
        "\n",
        "    outputs = Conv2D(1, 1, activation='sigmoid')(c7)\n",
        "\n",
        "    return Model(inputs, outputs)\n"
      ],
      "metadata": {
        "trusted": true,
        "execution": {
          "iopub.status.busy": "2025-04-18T00:38:16.762546Z",
          "iopub.execute_input": "2025-04-18T00:38:16.762807Z",
          "iopub.status.idle": "2025-04-18T00:38:29.707721Z",
          "shell.execute_reply.started": "2025-04-18T00:38:16.762784Z",
          "shell.execute_reply": "2025-04-18T00:38:29.707139Z"
        },
        "id": "iGKIaTD-R9YN"
      },
      "outputs": [],
      "execution_count": null
    },
    {
      "cell_type": "code",
      "source": [
        "model = unet_model()\n",
        "model.compile(optimizer='adam', loss='binary_crossentropy', metrics=['accuracy'])\n",
        "model.summary()"
      ],
      "metadata": {
        "trusted": true,
        "execution": {
          "iopub.status.busy": "2025-04-18T00:38:29.708469Z",
          "iopub.execute_input": "2025-04-18T00:38:29.708931Z",
          "iopub.status.idle": "2025-04-18T00:38:32.022181Z",
          "shell.execute_reply.started": "2025-04-18T00:38:29.708904Z",
          "shell.execute_reply": "2025-04-18T00:38:32.021633Z"
        },
        "id": "STz64OwHR9YN"
      },
      "outputs": [],
      "execution_count": null
    },
    {
      "cell_type": "code",
      "source": [
        "import glob\n",
        "import os\n",
        "\n",
        "def load_dataset(num_cases=10):  # You can increase this later\n",
        "    X, Y = [], []\n",
        "    base_folder = \"/kaggle/input/brats20-dataset-training-validation/BraTS2020_TrainingData/MICCAI_BraTS2020_TrainingData\"\n",
        "\n",
        "    folders = sorted(glob.glob(base_folder + \"/BraTS20_Training_*\"))[:num_cases]\n",
        "\n",
        "    for folder in folders:\n",
        "        flair = os.path.join(folder, os.path.basename(folder) + \"_flair.nii\")\n",
        "        seg = os.path.join(folder, os.path.basename(folder) + \"_seg.nii\")\n",
        "\n",
        "        img, mask = preprocess_single_case(flair, seg)\n",
        "        X.append(img)\n",
        "        Y.append(mask)\n",
        "\n",
        "    return np.array(X), np.array(Y)\n",
        "\n",
        "X_train, Y_train = load_dataset(num_cases=300)  # You can increase for better training\n",
        "print(\"X_train shape:\", X_train.shape)\n",
        "print(\"Y_train shape:\", Y_train.shape)\n"
      ],
      "metadata": {
        "trusted": true,
        "execution": {
          "iopub.status.busy": "2025-04-18T00:38:32.022881Z",
          "iopub.execute_input": "2025-04-18T00:38:32.023116Z",
          "iopub.status.idle": "2025-04-18T00:40:12.468503Z",
          "shell.execute_reply.started": "2025-04-18T00:38:32.023093Z",
          "shell.execute_reply": "2025-04-18T00:40:12.467833Z"
        },
        "id": "hex65xaAR9YN"
      },
      "outputs": [],
      "execution_count": null
    },
    {
      "cell_type": "code",
      "source": [
        "history = model.fit(\n",
        "    X_train, Y_train,\n",
        "    epochs=25,\n",
        "    batch_size=4,\n",
        "    validation_split=0.2\n",
        ")\n"
      ],
      "metadata": {
        "trusted": true,
        "execution": {
          "iopub.status.busy": "2025-04-18T00:40:12.46922Z",
          "iopub.execute_input": "2025-04-18T00:40:12.469453Z",
          "iopub.status.idle": "2025-04-18T00:40:45.216307Z",
          "shell.execute_reply.started": "2025-04-18T00:40:12.469434Z",
          "shell.execute_reply": "2025-04-18T00:40:45.215582Z"
        },
        "id": "RpyhgaauR9YN"
      },
      "outputs": [],
      "execution_count": null
    },
    {
      "cell_type": "code",
      "source": [
        "import matplotlib.pyplot as plt\n",
        "\n",
        "plt.plot(history.history['loss'], label='Train Loss')\n",
        "plt.plot(history.history['val_loss'], label='Val Loss')\n",
        "plt.title('Loss during training')\n",
        "plt.xlabel('Epoch')\n",
        "plt.ylabel('Binary Crossentropy')\n",
        "plt.legend()\n",
        "plt.grid(True)\n",
        "plt.show()\n"
      ],
      "metadata": {
        "trusted": true,
        "execution": {
          "iopub.status.busy": "2025-04-18T00:40:45.217447Z",
          "iopub.execute_input": "2025-04-18T00:40:45.217671Z",
          "iopub.status.idle": "2025-04-18T00:40:45.389508Z",
          "shell.execute_reply.started": "2025-04-18T00:40:45.217655Z",
          "shell.execute_reply": "2025-04-18T00:40:45.388854Z"
        },
        "id": "-tKFj-AcR9YN"
      },
      "outputs": [],
      "execution_count": null
    },
    {
      "cell_type": "code",
      "source": [
        "# Pick a random test image (or reuse from earlier)\n",
        "test_img, test_mask = preprocess_single_case(\n",
        "    \"/kaggle/input/brats20-dataset-training-validation/BraTS2020_TrainingData/MICCAI_BraTS2020_TrainingData/BraTS20_Training_030/BraTS20_Training_030_flair.nii\",\n",
        "    \"/kaggle/input/brats20-dataset-training-validation/BraTS2020_TrainingData/MICCAI_BraTS2020_TrainingData/BraTS20_Training_030/BraTS20_Training_030_seg.nii\"\n",
        ")\n",
        "\n",
        "# Add batch dimension\n",
        "test_input = np.expand_dims(test_img, axis=0)\n",
        "\n",
        "# Predict tumor mask\n",
        "pred_mask = model.predict(test_input)[0]\n",
        "\n",
        "# Threshold the prediction (since it's sigmoid output)\n",
        "pred_mask = (pred_mask > 0.5).astype(np.float32)\n",
        "\n",
        "# Plot\n",
        "plt.figure(figsize=(12, 4))\n",
        "plt.subplot(1, 3, 1)\n",
        "plt.imshow(test_img.squeeze(), cmap='gray')\n",
        "plt.title('MRI Slice')\n",
        "\n",
        "plt.subplot(1, 3, 2)\n",
        "plt.imshow(test_mask.squeeze(), cmap='gray')\n",
        "plt.title('Ground Truth Mask')\n",
        "\n",
        "plt.subplot(1, 3, 3)\n",
        "plt.imshow(pred_mask.squeeze(), cmap='gray')\n",
        "plt.title('Predicted Mask')\n",
        "\n",
        "plt.tight_layout()\n",
        "plt.show()\n"
      ],
      "metadata": {
        "trusted": true,
        "execution": {
          "iopub.status.busy": "2025-04-18T00:40:45.390292Z",
          "iopub.execute_input": "2025-04-18T00:40:45.390573Z",
          "iopub.status.idle": "2025-04-18T00:40:47.042808Z",
          "shell.execute_reply.started": "2025-04-18T00:40:45.39055Z",
          "shell.execute_reply": "2025-04-18T00:40:47.042076Z"
        },
        "id": "oluymywAR9YN"
      },
      "outputs": [],
      "execution_count": null
    },
    {
      "cell_type": "code",
      "source": [
        "!pip install pennylane --quiet\n"
      ],
      "metadata": {
        "trusted": true,
        "execution": {
          "iopub.status.busy": "2025-04-18T00:40:47.043573Z",
          "iopub.execute_input": "2025-04-18T00:40:47.043782Z",
          "iopub.status.idle": "2025-04-18T00:40:53.03907Z",
          "shell.execute_reply.started": "2025-04-18T00:40:47.043758Z",
          "shell.execute_reply": "2025-04-18T00:40:53.03828Z"
        },
        "id": "xeUUOaokR9YO"
      },
      "outputs": [],
      "execution_count": null
    },
    {
      "cell_type": "code",
      "source": [
        "import pennylane as qml\n",
        "from pennylane import numpy as np\n",
        "import torch\n",
        "import torch.nn as nn\n",
        "import torch.nn.functional as F\n",
        "from sklearn.model_selection import train_test_split\n"
      ],
      "metadata": {
        "trusted": true,
        "execution": {
          "iopub.status.busy": "2025-04-18T00:40:53.04009Z",
          "iopub.execute_input": "2025-04-18T00:40:53.040408Z",
          "iopub.status.idle": "2025-04-18T00:40:57.584713Z",
          "shell.execute_reply.started": "2025-04-18T00:40:53.040385Z",
          "shell.execute_reply": "2025-04-18T00:40:57.584131Z"
        },
        "id": "BiRvq1xXR9YO"
      },
      "outputs": [],
      "execution_count": null
    },
    {
      "cell_type": "code",
      "source": [
        "from sklearn.preprocessing import LabelEncoder\n",
        "import cv2\n",
        "\n",
        "def prepare_quantum_data(X, Y, img_size=4):\n",
        "    X_q, y_q = [], []\n",
        "\n",
        "    for img, mask in zip(X, Y):\n",
        "        label = 1 if np.sum(mask) > 0 else 0  # Tumor present or not\n",
        "\n",
        "        # Resize to (img_size, img_size)\n",
        "        resized = cv2.resize(img.squeeze(), (img_size, img_size))\n",
        "\n",
        "        # Flatten the resized image (img_size x img_size -> img_size**2 features)\n",
        "        X_q.append(resized.flatten())\n",
        "        y_q.append(label)\n",
        "\n",
        "    return np.array(X_q), np.array(y_q)\n",
        "\n",
        "X_q, y_q = prepare_quantum_data(X_train, Y_train, img_size=2)  # Resize to 2x2 for 4 features\n",
        "X_train_q, X_test_q, y_train_q, y_test_q = train_test_split(X_q, y_q, test_size=0.2, random_state=42)\n",
        "\n",
        "print(\"Quantum input shape:\", X_train_q.shape)\n",
        "\n"
      ],
      "metadata": {
        "trusted": true,
        "execution": {
          "iopub.status.busy": "2025-04-18T00:40:57.585482Z",
          "iopub.execute_input": "2025-04-18T00:40:57.586371Z",
          "iopub.status.idle": "2025-04-18T00:40:57.605137Z",
          "shell.execute_reply.started": "2025-04-18T00:40:57.586351Z",
          "shell.execute_reply": "2025-04-18T00:40:57.604589Z"
        },
        "id": "bGhyGTDMR9YO"
      },
      "outputs": [],
      "execution_count": null
    },
    {
      "cell_type": "code",
      "source": [
        "n_qubits = 4\n",
        "dev = qml.device(\"default.qubit\", wires=n_qubits)\n",
        "\n",
        "@qml.qnode(dev, interface='torch')\n",
        "def quantum_circuit(inputs, weights):\n",
        "    qml.templates.AngleEmbedding(inputs, wires=range(n_qubits))\n",
        "    qml.templates.BasicEntanglerLayers(weights, wires=range(n_qubits))\n",
        "    return [qml.expval(qml.PauliZ(w)) for w in range(n_qubits)]\n"
      ],
      "metadata": {
        "trusted": true,
        "execution": {
          "iopub.status.busy": "2025-04-18T00:40:57.605952Z",
          "iopub.execute_input": "2025-04-18T00:40:57.606204Z",
          "iopub.status.idle": "2025-04-18T00:40:57.616013Z",
          "shell.execute_reply.started": "2025-04-18T00:40:57.60618Z",
          "shell.execute_reply": "2025-04-18T00:40:57.615384Z"
        },
        "id": "i0AkwkAwR9YO"
      },
      "outputs": [],
      "execution_count": null
    },
    {
      "cell_type": "code",
      "source": [
        "class QuantumClassifier(nn.Module):\n",
        "    def __init__(self):\n",
        "        super().__init__()\n",
        "        weight_shapes = {\"weights\": (3, n_qubits)}  # 3 layers\n",
        "        self.q_layer = qml.qnn.TorchLayer(quantum_circuit, weight_shapes)\n",
        "        self.fc = nn.Linear(n_qubits, 1)\n",
        "\n",
        "    def forward(self, x):\n",
        "        x = self.q_layer(x)\n",
        "        x = self.fc(x)\n",
        "        return torch.sigmoid(x)\n"
      ],
      "metadata": {
        "trusted": true,
        "execution": {
          "iopub.status.busy": "2025-04-18T00:40:57.616634Z",
          "iopub.execute_input": "2025-04-18T00:40:57.616809Z",
          "iopub.status.idle": "2025-04-18T00:40:57.636551Z",
          "shell.execute_reply.started": "2025-04-18T00:40:57.616795Z",
          "shell.execute_reply": "2025-04-18T00:40:57.635951Z"
        },
        "id": "aPZU19B2R9YO"
      },
      "outputs": [],
      "execution_count": null
    },
    {
      "cell_type": "code",
      "source": [
        "model = QuantumClassifier()\n",
        "loss_fn = nn.BCELoss()\n",
        "optimizer = torch.optim.Adam(model.parameters(), lr=0.01)\n",
        "\n",
        "# Train the model again\n",
        "X_tensor = torch.tensor(X_train_q, dtype=torch.float32)\n",
        "y_tensor = torch.tensor(y_train_q, dtype=torch.float32).view(-1, 1)\n",
        "\n",
        "for epoch in range(20):\n",
        "    optimizer.zero_grad()\n",
        "    preds = model(X_tensor)\n",
        "    loss = loss_fn(preds, y_tensor)\n",
        "    loss.backward()\n",
        "    optimizer.step()\n",
        "    print(f\"Epoch {epoch+1}: Loss = {loss.item():.4f}\")\n",
        "\n"
      ],
      "metadata": {
        "trusted": true,
        "execution": {
          "iopub.status.busy": "2025-04-18T00:40:57.637272Z",
          "iopub.execute_input": "2025-04-18T00:40:57.637583Z",
          "iopub.status.idle": "2025-04-18T00:41:00.838305Z",
          "shell.execute_reply.started": "2025-04-18T00:40:57.637565Z",
          "shell.execute_reply": "2025-04-18T00:41:00.837706Z"
        },
        "id": "AHM7zlSfR9YO"
      },
      "outputs": [],
      "execution_count": null
    },
    {
      "cell_type": "code",
      "source": [
        "X_test_tensor = torch.tensor(X_test_q, dtype=torch.float32)\n",
        "y_test_tensor = torch.tensor(y_test_q, dtype=torch.float32).view(-1, 1)\n",
        "\n",
        "with torch.no_grad():\n",
        "    test_preds = model(X_test_tensor)\n",
        "    test_preds = (test_preds > 0.5).float()\n",
        "    accuracy = (test_preds == y_test_tensor).float().mean()\n",
        "    print(\"Test Accuracy:\", accuracy.item())\n"
      ],
      "metadata": {
        "trusted": true,
        "execution": {
          "iopub.status.busy": "2025-04-18T00:41:00.839297Z",
          "iopub.execute_input": "2025-04-18T00:41:00.839956Z",
          "iopub.status.idle": "2025-04-18T00:41:00.862026Z",
          "shell.execute_reply.started": "2025-04-18T00:41:00.839937Z",
          "shell.execute_reply": "2025-04-18T00:41:00.861506Z"
        },
        "id": "OOHz9jwSR9YO"
      },
      "outputs": [],
      "execution_count": null
    },
    {
      "cell_type": "code",
      "source": [
        "# After training\n",
        "torch.save(model.state_dict(), \"brain_tumor_qcnn_model.pth\")"
      ],
      "metadata": {
        "trusted": true,
        "execution": {
          "iopub.status.busy": "2025-04-18T00:42:50.821239Z",
          "iopub.execute_input": "2025-04-18T00:42:50.821549Z",
          "iopub.status.idle": "2025-04-18T00:42:50.826643Z",
          "shell.execute_reply.started": "2025-04-18T00:42:50.821529Z",
          "shell.execute_reply": "2025-04-18T00:42:50.826051Z"
        },
        "id": "boHyGKf9R9YO"
      },
      "outputs": [],
      "execution_count": null
    }
  ]
}